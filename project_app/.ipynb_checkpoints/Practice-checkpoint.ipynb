{
 "cells": [
  {
   "cell_type": "code",
   "execution_count": 1,
   "id": "860dc5c2",
   "metadata": {},
   "outputs": [],
   "source": [
    "import numpy as np\n",
    "import pandas as pd\n",
    "import seaborn as sns\n",
    "\n",
    "from sklearn.preprocessing import MinMaxScaler, StandardScaler\n",
    "from sklearn.neighbors import KNeighborsClassifier,KNeighborsRegressor\n",
    "from sklearn.model_selection import train_test_split, GridSearchCV, RandomizedSearchCV\n",
    "\n",
    "from sklearn.metrics import classification_report, confusion_matrix,roc_curve,accuracy_score\n",
    "import matplotlib.pyplot as plt\n",
    "\n",
    "from sklearn.datasets import load_diabetes"
   ]
  },
  {
   "cell_type": "code",
   "execution_count": 48,
   "id": "a00a4d08",
   "metadata": {},
   "outputs": [
    {
     "data": {
      "text/html": [
       "<div>\n",
       "<style scoped>\n",
       "    .dataframe tbody tr th:only-of-type {\n",
       "        vertical-align: middle;\n",
       "    }\n",
       "\n",
       "    .dataframe tbody tr th {\n",
       "        vertical-align: top;\n",
       "    }\n",
       "\n",
       "    .dataframe thead th {\n",
       "        text-align: right;\n",
       "    }\n",
       "</style>\n",
       "<table border=\"1\" class=\"dataframe\">\n",
       "  <thead>\n",
       "    <tr style=\"text-align: right;\">\n",
       "      <th></th>\n",
       "      <th>Glucose</th>\n",
       "      <th>BloodPressure</th>\n",
       "      <th>SkinThickness</th>\n",
       "      <th>Insulin</th>\n",
       "      <th>BMI</th>\n",
       "      <th>DiabetesPedigreeFunction</th>\n",
       "      <th>Age</th>\n",
       "      <th>Outcome</th>\n",
       "    </tr>\n",
       "  </thead>\n",
       "  <tbody>\n",
       "    <tr>\n",
       "      <th>0</th>\n",
       "      <td>148</td>\n",
       "      <td>50</td>\n",
       "      <td>35</td>\n",
       "      <td>0</td>\n",
       "      <td>33.6</td>\n",
       "      <td>0.627</td>\n",
       "      <td>50</td>\n",
       "      <td>1</td>\n",
       "    </tr>\n",
       "    <tr>\n",
       "      <th>1</th>\n",
       "      <td>85</td>\n",
       "      <td>66</td>\n",
       "      <td>29</td>\n",
       "      <td>0</td>\n",
       "      <td>26.6</td>\n",
       "      <td>0.351</td>\n",
       "      <td>31</td>\n",
       "      <td>0</td>\n",
       "    </tr>\n",
       "    <tr>\n",
       "      <th>2</th>\n",
       "      <td>183</td>\n",
       "      <td>64</td>\n",
       "      <td>0</td>\n",
       "      <td>0</td>\n",
       "      <td>23.3</td>\n",
       "      <td>0.672</td>\n",
       "      <td>52</td>\n",
       "      <td>1</td>\n",
       "    </tr>\n",
       "    <tr>\n",
       "      <th>3</th>\n",
       "      <td>150</td>\n",
       "      <td>66</td>\n",
       "      <td>23</td>\n",
       "      <td>94</td>\n",
       "      <td>28.1</td>\n",
       "      <td>0.167</td>\n",
       "      <td>21</td>\n",
       "      <td>0</td>\n",
       "    </tr>\n",
       "    <tr>\n",
       "      <th>4</th>\n",
       "      <td>150</td>\n",
       "      <td>40</td>\n",
       "      <td>35</td>\n",
       "      <td>168</td>\n",
       "      <td>43.1</td>\n",
       "      <td>2.288</td>\n",
       "      <td>33</td>\n",
       "      <td>1</td>\n",
       "    </tr>\n",
       "    <tr>\n",
       "      <th>...</th>\n",
       "      <td>...</td>\n",
       "      <td>...</td>\n",
       "      <td>...</td>\n",
       "      <td>...</td>\n",
       "      <td>...</td>\n",
       "      <td>...</td>\n",
       "      <td>...</td>\n",
       "      <td>...</td>\n",
       "    </tr>\n",
       "    <tr>\n",
       "      <th>763</th>\n",
       "      <td>101</td>\n",
       "      <td>76</td>\n",
       "      <td>48</td>\n",
       "      <td>180</td>\n",
       "      <td>32.9</td>\n",
       "      <td>0.171</td>\n",
       "      <td>63</td>\n",
       "      <td>0</td>\n",
       "    </tr>\n",
       "    <tr>\n",
       "      <th>764</th>\n",
       "      <td>122</td>\n",
       "      <td>70</td>\n",
       "      <td>27</td>\n",
       "      <td>0</td>\n",
       "      <td>36.8</td>\n",
       "      <td>0.340</td>\n",
       "      <td>27</td>\n",
       "      <td>0</td>\n",
       "    </tr>\n",
       "    <tr>\n",
       "      <th>765</th>\n",
       "      <td>121</td>\n",
       "      <td>72</td>\n",
       "      <td>23</td>\n",
       "      <td>112</td>\n",
       "      <td>26.2</td>\n",
       "      <td>0.245</td>\n",
       "      <td>30</td>\n",
       "      <td>0</td>\n",
       "    </tr>\n",
       "    <tr>\n",
       "      <th>766</th>\n",
       "      <td>126</td>\n",
       "      <td>60</td>\n",
       "      <td>0</td>\n",
       "      <td>0</td>\n",
       "      <td>30.1</td>\n",
       "      <td>0.349</td>\n",
       "      <td>47</td>\n",
       "      <td>1</td>\n",
       "    </tr>\n",
       "    <tr>\n",
       "      <th>767</th>\n",
       "      <td>93</td>\n",
       "      <td>70</td>\n",
       "      <td>31</td>\n",
       "      <td>0</td>\n",
       "      <td>30.4</td>\n",
       "      <td>0.315</td>\n",
       "      <td>23</td>\n",
       "      <td>0</td>\n",
       "    </tr>\n",
       "  </tbody>\n",
       "</table>\n",
       "<p>768 rows × 8 columns</p>\n",
       "</div>"
      ],
      "text/plain": [
       "     Glucose  BloodPressure  SkinThickness  Insulin   BMI  \\\n",
       "0        148             50             35        0  33.6   \n",
       "1         85             66             29        0  26.6   \n",
       "2        183             64              0        0  23.3   \n",
       "3        150             66             23       94  28.1   \n",
       "4        150             40             35      168  43.1   \n",
       "..       ...            ...            ...      ...   ...   \n",
       "763      101             76             48      180  32.9   \n",
       "764      122             70             27        0  36.8   \n",
       "765      121             72             23      112  26.2   \n",
       "766      126             60              0        0  30.1   \n",
       "767       93             70             31        0  30.4   \n",
       "\n",
       "     DiabetesPedigreeFunction  Age  Outcome  \n",
       "0                       0.627   50        1  \n",
       "1                       0.351   31        0  \n",
       "2                       0.672   52        1  \n",
       "3                       0.167   21        0  \n",
       "4                       2.288   33        1  \n",
       "..                        ...  ...      ...  \n",
       "763                     0.171   63        0  \n",
       "764                     0.340   27        0  \n",
       "765                     0.245   30        0  \n",
       "766                     0.349   47        1  \n",
       "767                     0.315   23        0  \n",
       "\n",
       "[768 rows x 8 columns]"
      ]
     },
     "execution_count": 48,
     "metadata": {},
     "output_type": "execute_result"
    }
   ],
   "source": [
    "df = pd.read_csv(\"diabetes.csv\")\n",
    "df"
   ]
  },
  {
   "cell_type": "markdown",
   "id": "2ce793be",
   "metadata": {},
   "source": [
    "# EDA"
   ]
  },
  {
   "cell_type": "code",
   "execution_count": 3,
   "id": "fefcd2e7",
   "metadata": {},
   "outputs": [
    {
     "name": "stdout",
     "output_type": "stream",
     "text": [
      "<class 'pandas.core.frame.DataFrame'>\n",
      "RangeIndex: 768 entries, 0 to 767\n",
      "Data columns (total 8 columns):\n",
      " #   Column                    Non-Null Count  Dtype  \n",
      "---  ------                    --------------  -----  \n",
      " 0   Glucose                   768 non-null    int64  \n",
      " 1   BloodPressure             768 non-null    int64  \n",
      " 2   SkinThickness             768 non-null    int64  \n",
      " 3   Insulin                   768 non-null    int64  \n",
      " 4   BMI                       768 non-null    float64\n",
      " 5   DiabetesPedigreeFunction  768 non-null    float64\n",
      " 6   Age                       768 non-null    int64  \n",
      " 7   Outcome                   768 non-null    int64  \n",
      "dtypes: float64(2), int64(6)\n",
      "memory usage: 48.1 KB\n"
     ]
    }
   ],
   "source": [
    "df.info()"
   ]
  },
  {
   "cell_type": "code",
   "execution_count": 4,
   "id": "cf78cd8d",
   "metadata": {},
   "outputs": [
    {
     "data": {
      "text/plain": [
       "<AxesSubplot:>"
      ]
     },
     "execution_count": 4,
     "metadata": {},
     "output_type": "execute_result"
    },
    {
     "data": {
      "image/png": "[encoded data removed]",
      "text/plain": [
       "<Figure size 720x360 with 1 Axes>"
      ]
     },
     "metadata": {
      "needs_background": "light"
     },
     "output_type": "display_data"
    }
   ],
   "source": [
    "df.boxplot(figsize=(10,5))"
   ]
  },
  {
   "cell_type": "code",
   "execution_count": 5,
   "id": "46ce1deb",
   "metadata": {},
   "outputs": [
    {
     "data": {
      "text/plain": [
       "array([  0,  14,  15,  16,  18,  22,  23,  25,  29,  32,  36,  37,  38,\n",
       "        40,  41,  42,  43,  44,  45,  46,  48,  49,  50,  51,  52,  53,\n",
       "        54,  55,  56,  57,  58,  59,  60,  61,  63,  64,  65,  66,  67,\n",
       "        68,  70,  71,  72,  73,  74,  75,  76,  77,  78,  79,  81,  82,\n",
       "        83,  84,  85,  86,  87,  88,  89,  90,  91,  92,  94,  95,  96,\n",
       "        99, 100, 105, 106, 108, 110, 112, 114, 115, 116, 119, 120, 122,\n",
       "       125, 126, 127, 128, 129, 130, 132, 135, 140, 142, 144, 145, 146,\n",
       "       148, 150, 152, 155, 156, 158, 159, 160, 165, 166, 167, 168, 170,\n",
       "       171, 175, 176, 178, 180, 182, 183, 184, 185, 188, 190, 191, 192,\n",
       "       193, 194, 196, 200, 204, 205, 207, 210, 215, 220, 225, 228, 230,\n",
       "       231, 235, 237, 240, 245, 249, 250, 255, 258, 265, 270, 271, 272,\n",
       "       274, 275, 277, 278, 280, 284, 285, 291, 293, 300, 304, 310, 318,\n",
       "       321, 325, 326, 328, 330, 335, 342, 360, 370, 375, 387, 392, 402,\n",
       "       415, 440, 465, 474, 478, 480, 485, 495, 510, 540, 543, 545, 579,\n",
       "       600, 680, 744, 846], dtype=int64)"
      ]
     },
     "execution_count": 5,
     "metadata": {},
     "output_type": "execute_result"
    }
   ],
   "source": [
    "np.sort(df[\"Insulin\"].unique())"
   ]
  },
  {
   "cell_type": "code",
   "execution_count": null,
   "id": "3333655d",
   "metadata": {},
   "outputs": [],
   "source": []
  },
  {
   "cell_type": "code",
   "execution_count": 6,
   "id": "8b064f9a",
   "metadata": {},
   "outputs": [
    {
     "data": {
      "text/plain": [
       "[13, 228, 247]"
      ]
     },
     "execution_count": 6,
     "metadata": {},
     "output_type": "execute_result"
    }
   ],
   "source": [
    "a=np.where(df[\"Insulin\"]>600)[0]\n",
    "a.tolist()"
   ]
  },
  {
   "cell_type": "code",
   "execution_count": 7,
   "id": "bb437cb3",
   "metadata": {},
   "outputs": [],
   "source": [
    "df.drop(np.where(df[\"Insulin\"]>600)[0].tolist(),axis=0,inplace=True)"
   ]
  },
  {
   "cell_type": "code",
   "execution_count": 8,
   "id": "51245fe0",
   "metadata": {},
   "outputs": [
    {
     "data": {
      "text/html": [
       "<div>\n",
       "<style scoped>\n",
       "    .dataframe tbody tr th:only-of-type {\n",
       "        vertical-align: middle;\n",
       "    }\n",
       "\n",
       "    .dataframe tbody tr th {\n",
       "        vertical-align: top;\n",
       "    }\n",
       "\n",
       "    .dataframe thead th {\n",
       "        text-align: right;\n",
       "    }\n",
       "</style>\n",
       "<table border=\"1\" class=\"dataframe\">\n",
       "  <thead>\n",
       "    <tr style=\"text-align: right;\">\n",
       "      <th></th>\n",
       "      <th>Glucose</th>\n",
       "      <th>BloodPressure</th>\n",
       "      <th>SkinThickness</th>\n",
       "      <th>Insulin</th>\n",
       "      <th>BMI</th>\n",
       "      <th>DiabetesPedigreeFunction</th>\n",
       "      <th>Age</th>\n",
       "      <th>Outcome</th>\n",
       "    </tr>\n",
       "  </thead>\n",
       "  <tbody>\n",
       "    <tr>\n",
       "      <th>0</th>\n",
       "      <td>148</td>\n",
       "      <td>50</td>\n",
       "      <td>35</td>\n",
       "      <td>0</td>\n",
       "      <td>33.6</td>\n",
       "      <td>0.627</td>\n",
       "      <td>50</td>\n",
       "      <td>1</td>\n",
       "    </tr>\n",
       "    <tr>\n",
       "      <th>1</th>\n",
       "      <td>85</td>\n",
       "      <td>66</td>\n",
       "      <td>29</td>\n",
       "      <td>0</td>\n",
       "      <td>26.6</td>\n",
       "      <td>0.351</td>\n",
       "      <td>31</td>\n",
       "      <td>0</td>\n",
       "    </tr>\n",
       "    <tr>\n",
       "      <th>2</th>\n",
       "      <td>183</td>\n",
       "      <td>64</td>\n",
       "      <td>0</td>\n",
       "      <td>0</td>\n",
       "      <td>23.3</td>\n",
       "      <td>0.672</td>\n",
       "      <td>52</td>\n",
       "      <td>1</td>\n",
       "    </tr>\n",
       "    <tr>\n",
       "      <th>3</th>\n",
       "      <td>150</td>\n",
       "      <td>66</td>\n",
       "      <td>23</td>\n",
       "      <td>94</td>\n",
       "      <td>28.1</td>\n",
       "      <td>0.167</td>\n",
       "      <td>21</td>\n",
       "      <td>0</td>\n",
       "    </tr>\n",
       "    <tr>\n",
       "      <th>4</th>\n",
       "      <td>150</td>\n",
       "      <td>40</td>\n",
       "      <td>35</td>\n",
       "      <td>168</td>\n",
       "      <td>43.1</td>\n",
       "      <td>2.288</td>\n",
       "      <td>33</td>\n",
       "      <td>1</td>\n",
       "    </tr>\n",
       "    <tr>\n",
       "      <th>...</th>\n",
       "      <td>...</td>\n",
       "      <td>...</td>\n",
       "      <td>...</td>\n",
       "      <td>...</td>\n",
       "      <td>...</td>\n",
       "      <td>...</td>\n",
       "      <td>...</td>\n",
       "      <td>...</td>\n",
       "    </tr>\n",
       "    <tr>\n",
       "      <th>763</th>\n",
       "      <td>101</td>\n",
       "      <td>76</td>\n",
       "      <td>48</td>\n",
       "      <td>180</td>\n",
       "      <td>32.9</td>\n",
       "      <td>0.171</td>\n",
       "      <td>63</td>\n",
       "      <td>0</td>\n",
       "    </tr>\n",
       "    <tr>\n",
       "      <th>764</th>\n",
       "      <td>122</td>\n",
       "      <td>70</td>\n",
       "      <td>27</td>\n",
       "      <td>0</td>\n",
       "      <td>36.8</td>\n",
       "      <td>0.340</td>\n",
       "      <td>27</td>\n",
       "      <td>0</td>\n",
       "    </tr>\n",
       "    <tr>\n",
       "      <th>765</th>\n",
       "      <td>121</td>\n",
       "      <td>72</td>\n",
       "      <td>23</td>\n",
       "      <td>112</td>\n",
       "      <td>26.2</td>\n",
       "      <td>0.245</td>\n",
       "      <td>30</td>\n",
       "      <td>0</td>\n",
       "    </tr>\n",
       "    <tr>\n",
       "      <th>766</th>\n",
       "      <td>126</td>\n",
       "      <td>60</td>\n",
       "      <td>0</td>\n",
       "      <td>0</td>\n",
       "      <td>30.1</td>\n",
       "      <td>0.349</td>\n",
       "      <td>47</td>\n",
       "      <td>1</td>\n",
       "    </tr>\n",
       "    <tr>\n",
       "      <th>767</th>\n",
       "      <td>93</td>\n",
       "      <td>70</td>\n",
       "      <td>31</td>\n",
       "      <td>0</td>\n",
       "      <td>30.4</td>\n",
       "      <td>0.315</td>\n",
       "      <td>23</td>\n",
       "      <td>0</td>\n",
       "    </tr>\n",
       "  </tbody>\n",
       "</table>\n",
       "<p>765 rows × 8 columns</p>\n",
       "</div>"
      ],
      "text/plain": [
       "     Glucose  BloodPressure  SkinThickness  Insulin   BMI  \\\n",
       "0        148             50             35        0  33.6   \n",
       "1         85             66             29        0  26.6   \n",
       "2        183             64              0        0  23.3   \n",
       "3        150             66             23       94  28.1   \n",
       "4        150             40             35      168  43.1   \n",
       "..       ...            ...            ...      ...   ...   \n",
       "763      101             76             48      180  32.9   \n",
       "764      122             70             27        0  36.8   \n",
       "765      121             72             23      112  26.2   \n",
       "766      126             60              0        0  30.1   \n",
       "767       93             70             31        0  30.4   \n",
       "\n",
       "     DiabetesPedigreeFunction  Age  Outcome  \n",
       "0                       0.627   50        1  \n",
       "1                       0.351   31        0  \n",
       "2                       0.672   52        1  \n",
       "3                       0.167   21        0  \n",
       "4                       2.288   33        1  \n",
       "..                        ...  ...      ...  \n",
       "763                     0.171   63        0  \n",
       "764                     0.340   27        0  \n",
       "765                     0.245   30        0  \n",
       "766                     0.349   47        1  \n",
       "767                     0.315   23        0  \n",
       "\n",
       "[765 rows x 8 columns]"
      ]
     },
     "execution_count": 8,
     "metadata": {},
     "output_type": "execute_result"
    }
   ],
   "source": [
    "df"
   ]
  },
  {
   "cell_type": "code",
   "execution_count": 9,
   "id": "7499a98e",
   "metadata": {},
   "outputs": [
    {
     "data": {
      "text/plain": [
       "0    498\n",
       "1    267\n",
       "Name: Outcome, dtype: int64"
      ]
     },
     "execution_count": 9,
     "metadata": {},
     "output_type": "execute_result"
    }
   ],
   "source": [
    "df[\"Outcome\"].value_counts()"
   ]
  },
  {
   "cell_type": "code",
   "execution_count": 49,
   "id": "84a5ed01",
   "metadata": {},
   "outputs": [],
   "source": [
    "x = df.drop(\"Outcome\",axis = 1)\n",
    "y = df['Outcome']\n",
    "\n",
    "x_train,x_test,y_train,y_test = train_test_split(x,y,test_size=0.25,random_state=42,stratify=y)"
   ]
  },
  {
   "cell_type": "code",
   "execution_count": 11,
   "id": "0e553979",
   "metadata": {},
   "outputs": [
    {
     "data": {
      "text/html": [
       "<div>\n",
       "<style scoped>\n",
       "    .dataframe tbody tr th:only-of-type {\n",
       "        vertical-align: middle;\n",
       "    }\n",
       "\n",
       "    .dataframe tbody tr th {\n",
       "        vertical-align: top;\n",
       "    }\n",
       "\n",
       "    .dataframe thead th {\n",
       "        text-align: right;\n",
       "    }\n",
       "</style>\n",
       "<table border=\"1\" class=\"dataframe\">\n",
       "  <thead>\n",
       "    <tr style=\"text-align: right;\">\n",
       "      <th></th>\n",
       "      <th>Glucose</th>\n",
       "      <th>BloodPressure</th>\n",
       "      <th>SkinThickness</th>\n",
       "      <th>Insulin</th>\n",
       "      <th>BMI</th>\n",
       "      <th>DiabetesPedigreeFunction</th>\n",
       "      <th>Age</th>\n",
       "    </tr>\n",
       "  </thead>\n",
       "  <tbody>\n",
       "    <tr>\n",
       "      <th>704</th>\n",
       "      <td>110</td>\n",
       "      <td>76</td>\n",
       "      <td>20</td>\n",
       "      <td>100</td>\n",
       "      <td>28.4</td>\n",
       "      <td>0.118</td>\n",
       "      <td>27</td>\n",
       "    </tr>\n",
       "    <tr>\n",
       "      <th>698</th>\n",
       "      <td>127</td>\n",
       "      <td>88</td>\n",
       "      <td>11</td>\n",
       "      <td>155</td>\n",
       "      <td>34.5</td>\n",
       "      <td>0.598</td>\n",
       "      <td>28</td>\n",
       "    </tr>\n",
       "    <tr>\n",
       "      <th>158</th>\n",
       "      <td>88</td>\n",
       "      <td>74</td>\n",
       "      <td>19</td>\n",
       "      <td>53</td>\n",
       "      <td>29.0</td>\n",
       "      <td>0.229</td>\n",
       "      <td>22</td>\n",
       "    </tr>\n",
       "    <tr>\n",
       "      <th>540</th>\n",
       "      <td>100</td>\n",
       "      <td>74</td>\n",
       "      <td>40</td>\n",
       "      <td>215</td>\n",
       "      <td>39.4</td>\n",
       "      <td>0.661</td>\n",
       "      <td>43</td>\n",
       "    </tr>\n",
       "    <tr>\n",
       "      <th>484</th>\n",
       "      <td>145</td>\n",
       "      <td>0</td>\n",
       "      <td>0</td>\n",
       "      <td>0</td>\n",
       "      <td>44.2</td>\n",
       "      <td>0.630</td>\n",
       "      <td>31</td>\n",
       "    </tr>\n",
       "    <tr>\n",
       "      <th>...</th>\n",
       "      <td>...</td>\n",
       "      <td>...</td>\n",
       "      <td>...</td>\n",
       "      <td>...</td>\n",
       "      <td>...</td>\n",
       "      <td>...</td>\n",
       "      <td>...</td>\n",
       "    </tr>\n",
       "    <tr>\n",
       "      <th>699</th>\n",
       "      <td>118</td>\n",
       "      <td>70</td>\n",
       "      <td>0</td>\n",
       "      <td>0</td>\n",
       "      <td>44.5</td>\n",
       "      <td>0.904</td>\n",
       "      <td>26</td>\n",
       "    </tr>\n",
       "    <tr>\n",
       "      <th>144</th>\n",
       "      <td>154</td>\n",
       "      <td>62</td>\n",
       "      <td>31</td>\n",
       "      <td>284</td>\n",
       "      <td>32.8</td>\n",
       "      <td>0.237</td>\n",
       "      <td>23</td>\n",
       "    </tr>\n",
       "    <tr>\n",
       "      <th>473</th>\n",
       "      <td>136</td>\n",
       "      <td>90</td>\n",
       "      <td>0</td>\n",
       "      <td>0</td>\n",
       "      <td>29.9</td>\n",
       "      <td>0.210</td>\n",
       "      <td>50</td>\n",
       "    </tr>\n",
       "    <tr>\n",
       "      <th>275</th>\n",
       "      <td>100</td>\n",
       "      <td>70</td>\n",
       "      <td>52</td>\n",
       "      <td>57</td>\n",
       "      <td>40.5</td>\n",
       "      <td>0.677</td>\n",
       "      <td>25</td>\n",
       "    </tr>\n",
       "    <tr>\n",
       "      <th>205</th>\n",
       "      <td>111</td>\n",
       "      <td>72</td>\n",
       "      <td>28</td>\n",
       "      <td>0</td>\n",
       "      <td>23.9</td>\n",
       "      <td>0.407</td>\n",
       "      <td>27</td>\n",
       "    </tr>\n",
       "  </tbody>\n",
       "</table>\n",
       "<p>192 rows × 7 columns</p>\n",
       "</div>"
      ],
      "text/plain": [
       "     Glucose  BloodPressure  SkinThickness  Insulin   BMI  \\\n",
       "704      110             76             20      100  28.4   \n",
       "698      127             88             11      155  34.5   \n",
       "158       88             74             19       53  29.0   \n",
       "540      100             74             40      215  39.4   \n",
       "484      145              0              0        0  44.2   \n",
       "..       ...            ...            ...      ...   ...   \n",
       "699      118             70              0        0  44.5   \n",
       "144      154             62             31      284  32.8   \n",
       "473      136             90              0        0  29.9   \n",
       "275      100             70             52       57  40.5   \n",
       "205      111             72             28        0  23.9   \n",
       "\n",
       "     DiabetesPedigreeFunction  Age  \n",
       "704                     0.118   27  \n",
       "698                     0.598   28  \n",
       "158                     0.229   22  \n",
       "540                     0.661   43  \n",
       "484                     0.630   31  \n",
       "..                        ...  ...  \n",
       "699                     0.904   26  \n",
       "144                     0.237   23  \n",
       "473                     0.210   50  \n",
       "275                     0.677   25  \n",
       "205                     0.407   27  \n",
       "\n",
       "[192 rows x 7 columns]"
      ]
     },
     "execution_count": 11,
     "metadata": {},
     "output_type": "execute_result"
    }
   ],
   "source": [
    "x_test"
   ]
  },
  {
   "cell_type": "markdown",
   "id": "3abea257",
   "metadata": {},
   "source": [
    "# Model Training"
   ]
  },
  {
   "cell_type": "code",
   "execution_count": 12,
   "id": "b65894cc",
   "metadata": {},
   "outputs": [
    {
     "data": {
      "text/plain": [
       "KNeighborsClassifier()"
      ]
     },
     "execution_count": 12,
     "metadata": {},
     "output_type": "execute_result"
    }
   ],
   "source": [
    "model= KNeighborsClassifier() # k = 5, p= 2(Euclidean dist)\n",
    "model.fit(x_train,y_train)"
   ]
  },
  {
   "cell_type": "markdown",
   "id": "72b11340",
   "metadata": {},
   "source": [
    "# Evaluation"
   ]
  },
  {
   "cell_type": "code",
   "execution_count": 13,
   "id": "4d316fac",
   "metadata": {},
   "outputs": [
    {
     "name": "stdout",
     "output_type": "stream",
     "text": [
      "Confusion matrix: \n",
      " [[106  19]\n",
      " [ 37  30]]\n",
      "accuracy_score: \n",
      " 0.7083333333333334\n",
      "classification_report: \n",
      "               precision    recall  f1-score   support\n",
      "\n",
      "           0       0.74      0.85      0.79       125\n",
      "           1       0.61      0.45      0.52        67\n",
      "\n",
      "    accuracy                           0.71       192\n",
      "   macro avg       0.68      0.65      0.65       192\n",
      "weighted avg       0.70      0.71      0.70       192\n",
      "\n"
     ]
    }
   ],
   "source": [
    "#testing data\n",
    "\n",
    "y_pred_test=model.predict(x_test)\n",
    "\n",
    "con_matrix=confusion_matrix(y_test,y_pred_test)\n",
    "print(\"Confusion matrix: \\n\",con_matrix)\n",
    "\n",
    "accur_score=accuracy_score(y_test,y_pred_test)\n",
    "print(\"accuracy_score: \\n\",accur_score)\n",
    "\n",
    "report=classification_report(y_test,y_pred_test)\n",
    "print(\"classification_report: \\n\",report)"
   ]
  },
  {
   "cell_type": "code",
   "execution_count": 14,
   "id": "d161b1b7",
   "metadata": {},
   "outputs": [
    {
     "name": "stdout",
     "output_type": "stream",
     "text": [
      "Confusion matrix: \n",
      " [[331  42]\n",
      " [ 69 131]]\n",
      "accuracy_score: \n",
      " 0.806282722513089\n",
      "classification_report: \n",
      "               precision    recall  f1-score   support\n",
      "\n",
      "           0       0.83      0.89      0.86       373\n",
      "           1       0.76      0.66      0.70       200\n",
      "\n",
      "    accuracy                           0.81       573\n",
      "   macro avg       0.79      0.77      0.78       573\n",
      "weighted avg       0.80      0.81      0.80       573\n",
      "\n"
     ]
    }
   ],
   "source": [
    "#training data\n",
    "\n",
    "y_pred_train=model.predict(x_train)\n",
    "\n",
    "con_matrix=confusion_matrix(y_train,y_pred_train)\n",
    "print(\"Confusion matrix: \\n\",con_matrix)\n",
    "\n",
    "accur_score=accuracy_score(y_train,y_pred_train)\n",
    "print(\"accuracy_score: \\n\",accur_score)\n",
    "\n",
    "report=classification_report(y_train,y_pred_train)\n",
    "print(\"classification_report: \\n\",report)"
   ]
  },
  {
   "cell_type": "markdown",
   "id": "87ecb78f",
   "metadata": {},
   "source": [
    "# Hyperparameter Tuning"
   ]
  },
  {
   "cell_type": "code",
   "execution_count": 15,
   "id": "85769925",
   "metadata": {},
   "outputs": [
    {
     "data": {
      "text/plain": [
       "GridSearchCV(cv=5, estimator=KNeighborsClassifier(),\n",
       "             param_grid={'n_neighbors': array([ 1,  2,  3,  4,  5,  6,  7,  8,  9, 10, 11, 12, 13, 14, 15, 16, 17,\n",
       "       18, 19, 20, 21, 22, 23, 24, 25, 26, 27, 28, 29]),\n",
       "                         'p': [1, 2]})"
      ]
     },
     "execution_count": 15,
     "metadata": {},
     "output_type": "execute_result"
    }
   ],
   "source": [
    "knn=KNeighborsClassifier()\n",
    "\n",
    "parameter={\"n_neighbors\":np.arange(1,30),\n",
    "          \"p\":[1,2]}\n",
    "gcv_kn = GridSearchCV(knn,parameter,cv=5)\n",
    "gcv_kn.fit(x_train,y_train)"
   ]
  },
  {
   "cell_type": "code",
   "execution_count": 16,
   "id": "b6541960",
   "metadata": {},
   "outputs": [
    {
     "data": {
      "text/plain": [
       "KNeighborsClassifier(n_neighbors=28, p=1)"
      ]
     },
     "execution_count": 16,
     "metadata": {},
     "output_type": "execute_result"
    }
   ],
   "source": [
    "gcv_kn.best_estimator_"
   ]
  },
  {
   "cell_type": "code",
   "execution_count": 17,
   "id": "45538b30",
   "metadata": {},
   "outputs": [
    {
     "data": {
      "text/plain": [
       "{'n_neighbors': 28, 'p': 1}"
      ]
     },
     "execution_count": 17,
     "metadata": {},
     "output_type": "execute_result"
    }
   ],
   "source": [
    "gcv_kn.best_params_"
   ]
  },
  {
   "cell_type": "code",
   "execution_count": 18,
   "id": "e9693bbe",
   "metadata": {},
   "outputs": [
    {
     "name": "stdout",
     "output_type": "stream",
     "text": [
      "Confusion matrix: \n",
      " [[114  11]\n",
      " [ 39  28]]\n",
      "accuracy_score: \n",
      " 0.7395833333333334\n",
      "classification_report: \n",
      "               precision    recall  f1-score   support\n",
      "\n",
      "           0       0.75      0.91      0.82       125\n",
      "           1       0.72      0.42      0.53        67\n",
      "\n",
      "    accuracy                           0.74       192\n",
      "   macro avg       0.73      0.66      0.67       192\n",
      "weighted avg       0.74      0.74      0.72       192\n",
      "\n"
     ]
    }
   ],
   "source": [
    "#testing data\n",
    "knn_model=gcv_kn.best_estimator_\n",
    "\n",
    "y_pred_test=knn_model.predict(x_test)\n",
    "\n",
    "con_matrix=confusion_matrix(y_test,y_pred_test)\n",
    "print(\"Confusion matrix: \\n\",con_matrix)\n",
    "\n",
    "accur_score=accuracy_score(y_test,y_pred_test)\n",
    "print(\"accuracy_score: \\n\",accur_score)\n",
    "\n",
    "report=classification_report(y_test,y_pred_test)\n",
    "print(\"classification_report: \\n\",report)"
   ]
  },
  {
   "cell_type": "code",
   "execution_count": 19,
   "id": "bbc98cbe",
   "metadata": {},
   "outputs": [
    {
     "name": "stdout",
     "output_type": "stream",
     "text": [
      "Confusion matrix: \n",
      " [[340  33]\n",
      " [109  91]]\n",
      "accuracy_score: \n",
      " 0.7521815008726004\n",
      "classification_report: \n",
      "               precision    recall  f1-score   support\n",
      "\n",
      "           0       0.76      0.91      0.83       373\n",
      "           1       0.73      0.46      0.56       200\n",
      "\n",
      "    accuracy                           0.75       573\n",
      "   macro avg       0.75      0.68      0.69       573\n",
      "weighted avg       0.75      0.75      0.73       573\n",
      "\n"
     ]
    }
   ],
   "source": [
    "#training data\n",
    "\n",
    "y_pred_train=knn_model.predict(x_train)\n",
    "\n",
    "con_matrix=confusion_matrix(y_train,y_pred_train)\n",
    "print(\"Confusion matrix: \\n\",con_matrix)\n",
    "\n",
    "accur_score=accuracy_score(y_train,y_pred_train)\n",
    "print(\"accuracy_score: \\n\",accur_score)\n",
    "\n",
    "report=classification_report(y_train,y_pred_train)\n",
    "print(\"classification_report: \\n\",report)"
   ]
  },
  {
   "cell_type": "markdown",
   "id": "74e41d99",
   "metadata": {},
   "source": [
    "# Scaling"
   ]
  },
  {
   "cell_type": "code",
   "execution_count": 20,
   "id": "cd67fc12",
   "metadata": {},
   "outputs": [
    {
     "data": {
      "text/html": [
       "<div>\n",
       "<style scoped>\n",
       "    .dataframe tbody tr th:only-of-type {\n",
       "        vertical-align: middle;\n",
       "    }\n",
       "\n",
       "    .dataframe tbody tr th {\n",
       "        vertical-align: top;\n",
       "    }\n",
       "\n",
       "    .dataframe thead th {\n",
       "        text-align: right;\n",
       "    }\n",
       "</style>\n",
       "<table border=\"1\" class=\"dataframe\">\n",
       "  <thead>\n",
       "    <tr style=\"text-align: right;\">\n",
       "      <th></th>\n",
       "      <th>Glucose</th>\n",
       "      <th>BloodPressure</th>\n",
       "      <th>SkinThickness</th>\n",
       "      <th>Insulin</th>\n",
       "      <th>BMI</th>\n",
       "      <th>DiabetesPedigreeFunction</th>\n",
       "      <th>Age</th>\n",
       "    </tr>\n",
       "  </thead>\n",
       "  <tbody>\n",
       "    <tr>\n",
       "      <th>count</th>\n",
       "      <td>765.000000</td>\n",
       "      <td>765.000000</td>\n",
       "      <td>765.000000</td>\n",
       "      <td>765.000000</td>\n",
       "      <td>765.000000</td>\n",
       "      <td>765.000000</td>\n",
       "      <td>765.000000</td>\n",
       "    </tr>\n",
       "    <tr>\n",
       "      <th>mean</th>\n",
       "      <td>120.922876</td>\n",
       "      <td>69.060131</td>\n",
       "      <td>20.492810</td>\n",
       "      <td>77.145098</td>\n",
       "      <td>31.962353</td>\n",
       "      <td>0.469604</td>\n",
       "      <td>33.226144</td>\n",
       "    </tr>\n",
       "    <tr>\n",
       "      <th>std</th>\n",
       "      <td>31.691462</td>\n",
       "      <td>19.388196</td>\n",
       "      <td>15.962866</td>\n",
       "      <td>107.279598</td>\n",
       "      <td>7.863185</td>\n",
       "      <td>0.325085</td>\n",
       "      <td>11.738193</td>\n",
       "    </tr>\n",
       "    <tr>\n",
       "      <th>min</th>\n",
       "      <td>0.000000</td>\n",
       "      <td>0.000000</td>\n",
       "      <td>0.000000</td>\n",
       "      <td>0.000000</td>\n",
       "      <td>0.000000</td>\n",
       "      <td>0.078000</td>\n",
       "      <td>21.000000</td>\n",
       "    </tr>\n",
       "    <tr>\n",
       "      <th>25%</th>\n",
       "      <td>99.000000</td>\n",
       "      <td>62.000000</td>\n",
       "      <td>0.000000</td>\n",
       "      <td>0.000000</td>\n",
       "      <td>27.300000</td>\n",
       "      <td>0.243000</td>\n",
       "      <td>24.000000</td>\n",
       "    </tr>\n",
       "    <tr>\n",
       "      <th>50%</th>\n",
       "      <td>117.000000</td>\n",
       "      <td>72.000000</td>\n",
       "      <td>23.000000</td>\n",
       "      <td>25.000000</td>\n",
       "      <td>32.000000</td>\n",
       "      <td>0.370000</td>\n",
       "      <td>29.000000</td>\n",
       "    </tr>\n",
       "    <tr>\n",
       "      <th>75%</th>\n",
       "      <td>142.000000</td>\n",
       "      <td>80.000000</td>\n",
       "      <td>32.000000</td>\n",
       "      <td>126.000000</td>\n",
       "      <td>36.500000</td>\n",
       "      <td>0.626000</td>\n",
       "      <td>41.000000</td>\n",
       "    </tr>\n",
       "    <tr>\n",
       "      <th>max</th>\n",
       "      <td>199.000000</td>\n",
       "      <td>122.000000</td>\n",
       "      <td>99.000000</td>\n",
       "      <td>600.000000</td>\n",
       "      <td>67.100000</td>\n",
       "      <td>2.420000</td>\n",
       "      <td>81.000000</td>\n",
       "    </tr>\n",
       "  </tbody>\n",
       "</table>\n",
       "</div>"
      ],
      "text/plain": [
       "          Glucose  BloodPressure  SkinThickness     Insulin         BMI  \\\n",
       "count  765.000000     765.000000     765.000000  765.000000  765.000000   \n",
       "mean   120.922876      69.060131      20.492810   77.145098   31.962353   \n",
       "std     31.691462      19.388196      15.962866  107.279598    7.863185   \n",
       "min      0.000000       0.000000       0.000000    0.000000    0.000000   \n",
       "25%     99.000000      62.000000       0.000000    0.000000   27.300000   \n",
       "50%    117.000000      72.000000      23.000000   25.000000   32.000000   \n",
       "75%    142.000000      80.000000      32.000000  126.000000   36.500000   \n",
       "max    199.000000     122.000000      99.000000  600.000000   67.100000   \n",
       "\n",
       "       DiabetesPedigreeFunction         Age  \n",
       "count                765.000000  765.000000  \n",
       "mean                   0.469604   33.226144  \n",
       "std                    0.325085   11.738193  \n",
       "min                    0.078000   21.000000  \n",
       "25%                    0.243000   24.000000  \n",
       "50%                    0.370000   29.000000  \n",
       "75%                    0.626000   41.000000  \n",
       "max                    2.420000   81.000000  "
      ]
     },
     "execution_count": 20,
     "metadata": {},
     "output_type": "execute_result"
    }
   ],
   "source": [
    "x.describe()"
   ]
  },
  {
   "cell_type": "code",
   "execution_count": 21,
   "id": "01505a37",
   "metadata": {},
   "outputs": [
    {
     "data": {
      "text/plain": [
       "array([[0.74371859, 0.40983607, 0.35353535, ..., 0.50074516, 0.23441503,\n",
       "        0.48333333],\n",
       "       [0.42713568, 0.54098361, 0.29292929, ..., 0.39642325, 0.11656704,\n",
       "        0.16666667],\n",
       "       [0.91959799, 0.52459016, 0.        , ..., 0.34724292, 0.25362938,\n",
       "        0.51666667],\n",
       "       ...,\n",
       "       [0.6080402 , 0.59016393, 0.23232323, ..., 0.390462  , 0.07130658,\n",
       "        0.15      ],\n",
       "       [0.63316583, 0.49180328, 0.        , ..., 0.4485842 , 0.11571307,\n",
       "        0.43333333],\n",
       "       [0.46733668, 0.57377049, 0.31313131, ..., 0.45305514, 0.10119556,\n",
       "        0.03333333]])"
      ]
     },
     "execution_count": 21,
     "metadata": {},
     "output_type": "execute_result"
    }
   ],
   "source": [
    "scale=MinMaxScaler()\n",
    "x_norm_array=scale.fit_transform(x)\n",
    "x_norm_array"
   ]
  },
  {
   "cell_type": "code",
   "execution_count": 22,
   "id": "91a7946d",
   "metadata": {},
   "outputs": [
    {
     "data": {
      "text/html": [
       "<div>\n",
       "<style scoped>\n",
       "    .dataframe tbody tr th:only-of-type {\n",
       "        vertical-align: middle;\n",
       "    }\n",
       "\n",
       "    .dataframe tbody tr th {\n",
       "        vertical-align: top;\n",
       "    }\n",
       "\n",
       "    .dataframe thead th {\n",
       "        text-align: right;\n",
       "    }\n",
       "</style>\n",
       "<table border=\"1\" class=\"dataframe\">\n",
       "  <thead>\n",
       "    <tr style=\"text-align: right;\">\n",
       "      <th></th>\n",
       "      <th>Glucose</th>\n",
       "      <th>BloodPressure</th>\n",
       "      <th>SkinThickness</th>\n",
       "      <th>Insulin</th>\n",
       "      <th>BMI</th>\n",
       "      <th>DiabetesPedigreeFunction</th>\n",
       "      <th>Age</th>\n",
       "    </tr>\n",
       "  </thead>\n",
       "  <tbody>\n",
       "    <tr>\n",
       "      <th>0</th>\n",
       "      <td>0.743719</td>\n",
       "      <td>0.409836</td>\n",
       "      <td>0.353535</td>\n",
       "      <td>0.000000</td>\n",
       "      <td>0.500745</td>\n",
       "      <td>0.234415</td>\n",
       "      <td>0.483333</td>\n",
       "    </tr>\n",
       "    <tr>\n",
       "      <th>1</th>\n",
       "      <td>0.427136</td>\n",
       "      <td>0.540984</td>\n",
       "      <td>0.292929</td>\n",
       "      <td>0.000000</td>\n",
       "      <td>0.396423</td>\n",
       "      <td>0.116567</td>\n",
       "      <td>0.166667</td>\n",
       "    </tr>\n",
       "    <tr>\n",
       "      <th>2</th>\n",
       "      <td>0.919598</td>\n",
       "      <td>0.524590</td>\n",
       "      <td>0.000000</td>\n",
       "      <td>0.000000</td>\n",
       "      <td>0.347243</td>\n",
       "      <td>0.253629</td>\n",
       "      <td>0.516667</td>\n",
       "    </tr>\n",
       "    <tr>\n",
       "      <th>3</th>\n",
       "      <td>0.753769</td>\n",
       "      <td>0.540984</td>\n",
       "      <td>0.232323</td>\n",
       "      <td>0.156667</td>\n",
       "      <td>0.418778</td>\n",
       "      <td>0.038002</td>\n",
       "      <td>0.000000</td>\n",
       "    </tr>\n",
       "    <tr>\n",
       "      <th>4</th>\n",
       "      <td>0.753769</td>\n",
       "      <td>0.327869</td>\n",
       "      <td>0.353535</td>\n",
       "      <td>0.280000</td>\n",
       "      <td>0.642325</td>\n",
       "      <td>0.943638</td>\n",
       "      <td>0.200000</td>\n",
       "    </tr>\n",
       "    <tr>\n",
       "      <th>...</th>\n",
       "      <td>...</td>\n",
       "      <td>...</td>\n",
       "      <td>...</td>\n",
       "      <td>...</td>\n",
       "      <td>...</td>\n",
       "      <td>...</td>\n",
       "      <td>...</td>\n",
       "    </tr>\n",
       "    <tr>\n",
       "      <th>760</th>\n",
       "      <td>0.507538</td>\n",
       "      <td>0.622951</td>\n",
       "      <td>0.484848</td>\n",
       "      <td>0.300000</td>\n",
       "      <td>0.490313</td>\n",
       "      <td>0.039710</td>\n",
       "      <td>0.700000</td>\n",
       "    </tr>\n",
       "    <tr>\n",
       "      <th>761</th>\n",
       "      <td>0.613065</td>\n",
       "      <td>0.573770</td>\n",
       "      <td>0.272727</td>\n",
       "      <td>0.000000</td>\n",
       "      <td>0.548435</td>\n",
       "      <td>0.111870</td>\n",
       "      <td>0.100000</td>\n",
       "    </tr>\n",
       "    <tr>\n",
       "      <th>762</th>\n",
       "      <td>0.608040</td>\n",
       "      <td>0.590164</td>\n",
       "      <td>0.232323</td>\n",
       "      <td>0.186667</td>\n",
       "      <td>0.390462</td>\n",
       "      <td>0.071307</td>\n",
       "      <td>0.150000</td>\n",
       "    </tr>\n",
       "    <tr>\n",
       "      <th>763</th>\n",
       "      <td>0.633166</td>\n",
       "      <td>0.491803</td>\n",
       "      <td>0.000000</td>\n",
       "      <td>0.000000</td>\n",
       "      <td>0.448584</td>\n",
       "      <td>0.115713</td>\n",
       "      <td>0.433333</td>\n",
       "    </tr>\n",
       "    <tr>\n",
       "      <th>764</th>\n",
       "      <td>0.467337</td>\n",
       "      <td>0.573770</td>\n",
       "      <td>0.313131</td>\n",
       "      <td>0.000000</td>\n",
       "      <td>0.453055</td>\n",
       "      <td>0.101196</td>\n",
       "      <td>0.033333</td>\n",
       "    </tr>\n",
       "  </tbody>\n",
       "</table>\n",
       "<p>765 rows × 7 columns</p>\n",
       "</div>"
      ],
      "text/plain": [
       "      Glucose  BloodPressure  SkinThickness   Insulin       BMI  \\\n",
       "0    0.743719       0.409836       0.353535  0.000000  0.500745   \n",
       "1    0.427136       0.540984       0.292929  0.000000  0.396423   \n",
       "2    0.919598       0.524590       0.000000  0.000000  0.347243   \n",
       "3    0.753769       0.540984       0.232323  0.156667  0.418778   \n",
       "4    0.753769       0.327869       0.353535  0.280000  0.642325   \n",
       "..        ...            ...            ...       ...       ...   \n",
       "760  0.507538       0.622951       0.484848  0.300000  0.490313   \n",
       "761  0.613065       0.573770       0.272727  0.000000  0.548435   \n",
       "762  0.608040       0.590164       0.232323  0.186667  0.390462   \n",
       "763  0.633166       0.491803       0.000000  0.000000  0.448584   \n",
       "764  0.467337       0.573770       0.313131  0.000000  0.453055   \n",
       "\n",
       "     DiabetesPedigreeFunction       Age  \n",
       "0                    0.234415  0.483333  \n",
       "1                    0.116567  0.166667  \n",
       "2                    0.253629  0.516667  \n",
       "3                    0.038002  0.000000  \n",
       "4                    0.943638  0.200000  \n",
       "..                        ...       ...  \n",
       "760                  0.039710  0.700000  \n",
       "761                  0.111870  0.100000  \n",
       "762                  0.071307  0.150000  \n",
       "763                  0.115713  0.433333  \n",
       "764                  0.101196  0.033333  \n",
       "\n",
       "[765 rows x 7 columns]"
      ]
     },
     "execution_count": 22,
     "metadata": {},
     "output_type": "execute_result"
    }
   ],
   "source": [
    "x_norm=pd.DataFrame(x_norm_array,columns=x.columns)\n",
    "x_norm"
   ]
  },
  {
   "cell_type": "markdown",
   "id": "fd0b0d00",
   "metadata": {},
   "source": [
    "# Split data"
   ]
  },
  {
   "cell_type": "code",
   "execution_count": 23,
   "id": "cd24d17a",
   "metadata": {},
   "outputs": [],
   "source": [
    "x_train,x_test,y_train,y_test = train_test_split(x_norm,y,test_size=0.25,random_state=42,stratify=y)"
   ]
  },
  {
   "cell_type": "markdown",
   "id": "0756c747",
   "metadata": {},
   "source": [
    "# Model Training"
   ]
  },
  {
   "cell_type": "code",
   "execution_count": 24,
   "id": "b58acf0b",
   "metadata": {},
   "outputs": [
    {
     "data": {
      "text/plain": [
       "KNeighborsClassifier()"
      ]
     },
     "execution_count": 24,
     "metadata": {},
     "output_type": "execute_result"
    }
   ],
   "source": [
    "knn_sc_model=KNeighborsClassifier()\n",
    "knn_sc_model.fit(x_train,y_train)"
   ]
  },
  {
   "cell_type": "code",
   "execution_count": 25,
   "id": "052fd403",
   "metadata": {},
   "outputs": [
    {
     "name": "stdout",
     "output_type": "stream",
     "text": [
      "Confusion matrix: \n",
      " [[111  14]\n",
      " [ 26  41]]\n",
      "accuracy_score: \n",
      " 0.7916666666666666\n",
      "classification_report: \n",
      "               precision    recall  f1-score   support\n",
      "\n",
      "           0       0.81      0.89      0.85       125\n",
      "           1       0.75      0.61      0.67        67\n",
      "\n",
      "    accuracy                           0.79       192\n",
      "   macro avg       0.78      0.75      0.76       192\n",
      "weighted avg       0.79      0.79      0.79       192\n",
      "\n"
     ]
    }
   ],
   "source": [
    "#testing data\n",
    "\n",
    "y_pred_test=knn_sc_model.predict(x_test)\n",
    "\n",
    "con_matrix=confusion_matrix(y_test,y_pred_test)\n",
    "print(\"Confusion matrix: \\n\",con_matrix)\n",
    "\n",
    "accur_score=accuracy_score(y_test,y_pred_test)\n",
    "print(\"accuracy_score: \\n\",accur_score)\n",
    "\n",
    "report=classification_report(y_test,y_pred_test)\n",
    "print(\"classification_report: \\n\",report)"
   ]
  },
  {
   "cell_type": "code",
   "execution_count": 26,
   "id": "1cef59a3",
   "metadata": {},
   "outputs": [
    {
     "name": "stdout",
     "output_type": "stream",
     "text": [
      "Confusion matrix: \n",
      " [[330  43]\n",
      " [ 63 137]]\n",
      "accuracy_score: \n",
      " 0.8150087260034904\n",
      "classification_report: \n",
      "               precision    recall  f1-score   support\n",
      "\n",
      "           0       0.84      0.88      0.86       373\n",
      "           1       0.76      0.69      0.72       200\n",
      "\n",
      "    accuracy                           0.82       573\n",
      "   macro avg       0.80      0.78      0.79       573\n",
      "weighted avg       0.81      0.82      0.81       573\n",
      "\n"
     ]
    }
   ],
   "source": [
    "#training data\n",
    "\n",
    "y_pred_train=knn_sc_model.predict(x_train)\n",
    "\n",
    "con_matrix=confusion_matrix(y_train,y_pred_train)\n",
    "print(\"Confusion matrix: \\n\",con_matrix)\n",
    "\n",
    "accur_score=accuracy_score(y_train,y_pred_train)\n",
    "print(\"accuracy_score: \\n\",accur_score)\n",
    "\n",
    "report=classification_report(y_train,y_pred_train)\n",
    "print(\"classification_report: \\n\",report)"
   ]
  },
  {
   "cell_type": "markdown",
   "id": "5c4a9130",
   "metadata": {},
   "source": [
    "# Hypertune for scaling data"
   ]
  },
  {
   "cell_type": "code",
   "execution_count": 27,
   "id": "c7a92731",
   "metadata": {},
   "outputs": [
    {
     "data": {
      "text/plain": [
       "GridSearchCV(cv=5, estimator=KNeighborsClassifier(),\n",
       "             param_grid={'n_neighbors': array([ 1,  2,  3,  4,  5,  6,  7,  8,  9, 10, 11, 12, 13, 14, 15, 16, 17,\n",
       "       18, 19, 20, 21, 22, 23, 24, 25, 26, 27, 28, 29]),\n",
       "                         'p': [1, 2]})"
      ]
     },
     "execution_count": 27,
     "metadata": {},
     "output_type": "execute_result"
    }
   ],
   "source": [
    "kn_htsc_model=KNeighborsClassifier()\n",
    "\n",
    "parameter={\"n_neighbors\":np.arange(1,30),\n",
    "          \"p\":[1,2]}\n",
    "array=GridSearchCV(kn_htsc_model,parameter,cv=5)\n",
    "array.fit(x_train,y_train)"
   ]
  },
  {
   "cell_type": "code",
   "execution_count": 28,
   "id": "3961eff2",
   "metadata": {},
   "outputs": [
    {
     "data": {
      "text/plain": [
       "KNeighborsClassifier(n_neighbors=15)"
      ]
     },
     "execution_count": 28,
     "metadata": {},
     "output_type": "execute_result"
    }
   ],
   "source": [
    "array.best_estimator_"
   ]
  },
  {
   "cell_type": "code",
   "execution_count": 29,
   "id": "bf0b8f33",
   "metadata": {},
   "outputs": [
    {
     "data": {
      "text/plain": [
       "{'n_neighbors': 15, 'p': 2}"
      ]
     },
     "execution_count": 29,
     "metadata": {},
     "output_type": "execute_result"
    }
   ],
   "source": [
    "array.best_params_"
   ]
  },
  {
   "cell_type": "code",
   "execution_count": 30,
   "id": "8f7f471c",
   "metadata": {},
   "outputs": [
    {
     "name": "stdout",
     "output_type": "stream",
     "text": [
      "Confusion matrix: \n",
      " [[108  17]\n",
      " [ 31  36]]\n",
      "accuracy_score: \n",
      " 0.75\n",
      "classification_report: \n",
      "               precision    recall  f1-score   support\n",
      "\n",
      "           0       0.78      0.86      0.82       125\n",
      "           1       0.68      0.54      0.60        67\n",
      "\n",
      "    accuracy                           0.75       192\n",
      "   macro avg       0.73      0.70      0.71       192\n",
      "weighted avg       0.74      0.75      0.74       192\n",
      "\n"
     ]
    }
   ],
   "source": [
    "#testing data\n",
    "knn_htsc_model=array.best_estimator_\n",
    "y_pred_test=knn_htsc_model.predict(x_test)\n",
    "\n",
    "con_matrix=confusion_matrix(y_test,y_pred_test)\n",
    "print(\"Confusion matrix: \\n\",con_matrix)\n",
    "\n",
    "accur_score=accuracy_score(y_test,y_pred_test)\n",
    "print(\"accuracy_score: \\n\",accur_score)\n",
    "\n",
    "report=classification_report(y_test,y_pred_test)\n",
    "print(\"classification_report: \\n\",report)"
   ]
  },
  {
   "cell_type": "code",
   "execution_count": 31,
   "id": "608ac7ec",
   "metadata": {},
   "outputs": [
    {
     "name": "stdout",
     "output_type": "stream",
     "text": [
      "Confusion matrix: \n",
      " [[336  37]\n",
      " [ 81 119]]\n",
      "accuracy_score: \n",
      " 0.794066317626527\n",
      "classification_report: \n",
      "               precision    recall  f1-score   support\n",
      "\n",
      "           0       0.81      0.90      0.85       373\n",
      "           1       0.76      0.59      0.67       200\n",
      "\n",
      "    accuracy                           0.79       573\n",
      "   macro avg       0.78      0.75      0.76       573\n",
      "weighted avg       0.79      0.79      0.79       573\n",
      "\n"
     ]
    }
   ],
   "source": [
    "#training data\n",
    "\n",
    "y_pred_train=knn_htsc_model.predict(x_train)\n",
    "\n",
    "con_matrix=confusion_matrix(y_train,y_pred_train)\n",
    "print(\"Confusion matrix: \\n\",con_matrix)\n",
    "\n",
    "accur_score=accuracy_score(y_train,y_pred_train)\n",
    "print(\"accuracy_score: \\n\",accur_score)\n",
    "\n",
    "report=classification_report(y_train,y_pred_train)\n",
    "print(\"classification_report: \\n\",report)"
   ]
  },
  {
   "cell_type": "code",
   "execution_count": 32,
   "id": "e815b706",
   "metadata": {},
   "outputs": [],
   "source": [
    "import pandas as pd\n",
    "import numpy as np\n",
    "import pickle\n",
    "import json"
   ]
  },
  {
   "cell_type": "code",
   "execution_count": 34,
   "id": "d5fa6668",
   "metadata": {},
   "outputs": [],
   "source": [
    "with open(\"KNN_model.pkl\",\"wb\") as f:\n",
    "    pickle.dump(knn_htsc_model,f)"
   ]
  },
  {
   "cell_type": "code",
   "execution_count": null,
   "id": "9adf3d23",
   "metadata": {},
   "outputs": [],
   "source": [
    "with open(\"Scalling.pkl\",\"wb\") as f:\n",
    "    pickle.dump(scale,f)"
   ]
  },
  {
   "cell_type": "code",
   "execution_count": 36,
   "id": "b071da90",
   "metadata": {},
   "outputs": [
    {
     "data": {
      "text/plain": [
       "MinMaxScaler()"
      ]
     },
     "execution_count": 36,
     "metadata": {},
     "output_type": "execute_result"
    }
   ],
   "source": [
    "scale"
   ]
  },
  {
   "cell_type": "code",
   "execution_count": null,
   "id": "d0dea261",
   "metadata": {},
   "outputs": [],
   "source": []
  },
  {
   "cell_type": "code",
   "execution_count": 37,
   "id": "962cf110",
   "metadata": {},
   "outputs": [],
   "source": [
    "import pandas as pd\n",
    "import numpy as np\n",
    "import pickle\n",
    "import json"
   ]
  },
  {
   "cell_type": "markdown",
   "id": "7dfdeb29",
   "metadata": {},
   "source": [
    "# Load Model"
   ]
  },
  {
   "cell_type": "code",
   "execution_count": 38,
   "id": "2c4b1749",
   "metadata": {},
   "outputs": [],
   "source": [
    "with open(\"KNN_model.pkl\",\"rb\") as f:\n",
    "    model=pickle.load(f)"
   ]
  },
  {
   "cell_type": "code",
   "execution_count": 39,
   "id": "87b1fa76",
   "metadata": {},
   "outputs": [],
   "source": [
    "with open(\"Scalling.pkl\",\"rb\") as f:\n",
    "    scaling=pickle.load(f)"
   ]
  },
  {
   "cell_type": "code",
   "execution_count": 41,
   "id": "8cc92086",
   "metadata": {},
   "outputs": [],
   "source": [
    "Glucose= 85.000\n",
    "BloodPressure=66.000\n",
    "SkinThickness=29.000\n",
    "Insulin=0.000\n",
    "BMI=26.600\n",
    "DiabetesPedigreeFunction=0.351\n",
    "Age=31.000"
   ]
  },
  {
   "cell_type": "code",
   "execution_count": 61,
   "id": "0ae4b391",
   "metadata": {},
   "outputs": [
    {
     "data": {
      "text/plain": [
       "['Glucose',\n",
       " 'BloodPressure',\n",
       " 'SkinThickness',\n",
       " 'Insulin',\n",
       " 'BMI',\n",
       " 'DiabetesPedigreeFunction',\n",
       " 'Age']"
      ]
     },
     "execution_count": 61,
     "metadata": {},
     "output_type": "execute_result"
    }
   ],
   "source": [
    "q=[]\n",
    "for i in x.columns.to_list():\n",
    "    q.append(i)\n",
    "q"
   ]
  },
  {
   "cell_type": "code",
   "execution_count": 64,
   "id": "fe19001a",
   "metadata": {},
   "outputs": [
    {
     "data": {
      "text/plain": [
       "array([[85.   , 66.   , 29.   ,  0.   , 26.6  ,  0.351, 31.   ]])"
      ]
     },
     "execution_count": 64,
     "metadata": {},
     "output_type": "execute_result"
    }
   ],
   "source": [
    "test_array=np.array([[Glucose,BloodPressure,SkinThickness,Insulin,BMI,DiabetesPedigreeFunction,Age]])\n",
    "test_array"
   ]
  },
  {
   "cell_type": "code",
   "execution_count": 65,
   "id": "bf073d15",
   "metadata": {},
   "outputs": [
    {
     "data": {
      "text/plain": [
       "array([[0.42713568, 0.54098361, 0.29292929, 0.        , 0.39642325,\n",
       "        0.11656704, 0.16666667]])"
      ]
     },
     "execution_count": 65,
     "metadata": {},
     "output_type": "execute_result"
    }
   ],
   "source": [
    "scalled_test_array=scaling.transform(test_array)\n",
    "scalled_test_array"
   ]
  },
  {
   "cell_type": "code",
   "execution_count": 67,
   "id": "4af6a70f",
   "metadata": {},
   "outputs": [
    {
     "data": {
      "text/plain": [
       "0"
      ]
     },
     "execution_count": 67,
     "metadata": {},
     "output_type": "execute_result"
    }
   ],
   "source": [
    "model.predict(scalled_test_array)[0]"
   ]
  },
  {
   "cell_type": "code",
   "execution_count": null,
   "id": "781f3f13",
   "metadata": {},
   "outputs": [],
   "source": []
  }
 ],
 "metadata": {
  "kernelspec": {
   "display_name": "Python 3 (ipykernel)",
   "language": "python",
   "name": "python3"
  },
  "language_info": {
   "codemirror_mode": {
    "name": "ipython",
    "version": 3
   },
   "file_extension": ".py",
   "mimetype": "text/x-python",
   "name": "python",
   "nbconvert_exporter": "python",
   "pygments_lexer": "ipython3",
   "version": "3.9.7"
  },
  "vscode": {
   "interpreter": {
    "hash": "cdfbeefe9c9561a0cdaaa1a8dce174bd7a4ce67dd8765fdd7cddfafdb4b691f2"
   }
  }
 },
 "nbformat": 4,
 "nbformat_minor": 5
}
